{
 "cells": [
  {
   "cell_type": "markdown",
   "id": "f9f3b160",
   "metadata": {},
   "source": [
    "***IMPORT NECESSARY LIBRARIES***"
   ]
  },
  {
   "cell_type": "code",
   "execution_count": 65,
   "id": "d1799961",
   "metadata": {
    "ExecuteTime": {
     "end_time": "2024-07-01T06:43:10.350923Z",
     "start_time": "2024-07-01T06:43:07.504932Z"
    }
   },
   "outputs": [],
   "source": [
    "import os, pandas as pd, numpy as np\n",
    "from sklearn.linear_model import LogisticRegression\n",
    "from sklearn.model_selection import train_test_split\n",
    "from sklearn.metrics import classification_report, roc_curve, auc, confusion_matrix, ConfusionMatrixDisplay\n",
    "import matplotlib.pyplot as plt\n",
    "from sklearn.preprocessing import LabelEncoder\n",
    "from sklearn.preprocessing import MinMaxScaler\n",
    "from sklearn.feature_selection import mutual_info_classif\n",
    "from sklearn.tree import DecisionTreeClassifier"
   ]
  },
  {
   "cell_type": "markdown",
   "id": "fd51b042",
   "metadata": {},
   "source": [
    "***IMPORT DATASET***"
   ]
  },
  {
   "cell_type": "code",
   "execution_count": 66,
   "id": "ca75f1c3",
   "metadata": {
    "ExecuteTime": {
     "end_time": "2024-07-01T06:43:10.357959Z",
     "start_time": "2024-07-01T06:43:10.352928Z"
    }
   },
   "outputs": [],
   "source": [
    "os.chdir(\"D:\\\\CHRIST\\\\Boot camp\\\\DATA\")"
   ]
  },
  {
   "cell_type": "code",
   "execution_count": 67,
   "id": "b16775f0",
   "metadata": {
    "ExecuteTime": {
     "end_time": "2024-07-01T06:43:10.569140Z",
     "start_time": "2024-07-01T06:43:10.361824Z"
    }
   },
   "outputs": [
    {
     "data": {
      "text/html": [
       "<div>\n",
       "<style scoped>\n",
       "    .dataframe tbody tr th:only-of-type {\n",
       "        vertical-align: middle;\n",
       "    }\n",
       "\n",
       "    .dataframe tbody tr th {\n",
       "        vertical-align: top;\n",
       "    }\n",
       "\n",
       "    .dataframe thead th {\n",
       "        text-align: right;\n",
       "    }\n",
       "</style>\n",
       "<table border=\"1\" class=\"dataframe\">\n",
       "  <thead>\n",
       "    <tr style=\"text-align: right;\">\n",
       "      <th></th>\n",
       "      <th>satisfaction</th>\n",
       "      <th>Customer Type</th>\n",
       "      <th>Age</th>\n",
       "      <th>Type of Travel</th>\n",
       "      <th>Class</th>\n",
       "      <th>Flight Distance</th>\n",
       "      <th>Seat comfort</th>\n",
       "      <th>Departure/Arrival time convenient</th>\n",
       "      <th>Food and drink</th>\n",
       "      <th>Gate location</th>\n",
       "      <th>...</th>\n",
       "      <th>Online support</th>\n",
       "      <th>Ease of Online booking</th>\n",
       "      <th>On-board service</th>\n",
       "      <th>Leg room service</th>\n",
       "      <th>Baggage handling</th>\n",
       "      <th>Checkin service</th>\n",
       "      <th>Cleanliness</th>\n",
       "      <th>Online boarding</th>\n",
       "      <th>Departure Delay in Minutes</th>\n",
       "      <th>Arrival Delay in Minutes</th>\n",
       "    </tr>\n",
       "  </thead>\n",
       "  <tbody>\n",
       "    <tr>\n",
       "      <th>0</th>\n",
       "      <td>satisfied</td>\n",
       "      <td>Loyal Customer</td>\n",
       "      <td>65</td>\n",
       "      <td>Personal Travel</td>\n",
       "      <td>Eco</td>\n",
       "      <td>265</td>\n",
       "      <td>0</td>\n",
       "      <td>0</td>\n",
       "      <td>0</td>\n",
       "      <td>2</td>\n",
       "      <td>...</td>\n",
       "      <td>2</td>\n",
       "      <td>3</td>\n",
       "      <td>3</td>\n",
       "      <td>0</td>\n",
       "      <td>3</td>\n",
       "      <td>5</td>\n",
       "      <td>3</td>\n",
       "      <td>2</td>\n",
       "      <td>0</td>\n",
       "      <td>0.0</td>\n",
       "    </tr>\n",
       "    <tr>\n",
       "      <th>1</th>\n",
       "      <td>satisfied</td>\n",
       "      <td>Loyal Customer</td>\n",
       "      <td>47</td>\n",
       "      <td>Personal Travel</td>\n",
       "      <td>Business</td>\n",
       "      <td>2464</td>\n",
       "      <td>0</td>\n",
       "      <td>0</td>\n",
       "      <td>0</td>\n",
       "      <td>3</td>\n",
       "      <td>...</td>\n",
       "      <td>2</td>\n",
       "      <td>3</td>\n",
       "      <td>4</td>\n",
       "      <td>4</td>\n",
       "      <td>4</td>\n",
       "      <td>2</td>\n",
       "      <td>3</td>\n",
       "      <td>2</td>\n",
       "      <td>310</td>\n",
       "      <td>305.0</td>\n",
       "    </tr>\n",
       "    <tr>\n",
       "      <th>2</th>\n",
       "      <td>satisfied</td>\n",
       "      <td>Loyal Customer</td>\n",
       "      <td>15</td>\n",
       "      <td>Personal Travel</td>\n",
       "      <td>Eco</td>\n",
       "      <td>2138</td>\n",
       "      <td>0</td>\n",
       "      <td>0</td>\n",
       "      <td>0</td>\n",
       "      <td>3</td>\n",
       "      <td>...</td>\n",
       "      <td>2</td>\n",
       "      <td>2</td>\n",
       "      <td>3</td>\n",
       "      <td>3</td>\n",
       "      <td>4</td>\n",
       "      <td>4</td>\n",
       "      <td>4</td>\n",
       "      <td>2</td>\n",
       "      <td>0</td>\n",
       "      <td>0.0</td>\n",
       "    </tr>\n",
       "    <tr>\n",
       "      <th>3</th>\n",
       "      <td>satisfied</td>\n",
       "      <td>Loyal Customer</td>\n",
       "      <td>60</td>\n",
       "      <td>Personal Travel</td>\n",
       "      <td>Eco</td>\n",
       "      <td>623</td>\n",
       "      <td>0</td>\n",
       "      <td>0</td>\n",
       "      <td>0</td>\n",
       "      <td>3</td>\n",
       "      <td>...</td>\n",
       "      <td>3</td>\n",
       "      <td>1</td>\n",
       "      <td>1</td>\n",
       "      <td>0</td>\n",
       "      <td>1</td>\n",
       "      <td>4</td>\n",
       "      <td>1</td>\n",
       "      <td>3</td>\n",
       "      <td>0</td>\n",
       "      <td>0.0</td>\n",
       "    </tr>\n",
       "    <tr>\n",
       "      <th>4</th>\n",
       "      <td>satisfied</td>\n",
       "      <td>Loyal Customer</td>\n",
       "      <td>70</td>\n",
       "      <td>Personal Travel</td>\n",
       "      <td>Eco</td>\n",
       "      <td>354</td>\n",
       "      <td>0</td>\n",
       "      <td>0</td>\n",
       "      <td>0</td>\n",
       "      <td>3</td>\n",
       "      <td>...</td>\n",
       "      <td>4</td>\n",
       "      <td>2</td>\n",
       "      <td>2</td>\n",
       "      <td>0</td>\n",
       "      <td>2</td>\n",
       "      <td>4</td>\n",
       "      <td>2</td>\n",
       "      <td>5</td>\n",
       "      <td>0</td>\n",
       "      <td>0.0</td>\n",
       "    </tr>\n",
       "  </tbody>\n",
       "</table>\n",
       "<p>5 rows × 22 columns</p>\n",
       "</div>"
      ],
      "text/plain": [
       "  satisfaction   Customer Type  Age   Type of Travel     Class  \\\n",
       "0    satisfied  Loyal Customer   65  Personal Travel       Eco   \n",
       "1    satisfied  Loyal Customer   47  Personal Travel  Business   \n",
       "2    satisfied  Loyal Customer   15  Personal Travel       Eco   \n",
       "3    satisfied  Loyal Customer   60  Personal Travel       Eco   \n",
       "4    satisfied  Loyal Customer   70  Personal Travel       Eco   \n",
       "\n",
       "   Flight Distance  Seat comfort  Departure/Arrival time convenient  \\\n",
       "0              265             0                                  0   \n",
       "1             2464             0                                  0   \n",
       "2             2138             0                                  0   \n",
       "3              623             0                                  0   \n",
       "4              354             0                                  0   \n",
       "\n",
       "   Food and drink  Gate location  ...  Online support  Ease of Online booking  \\\n",
       "0               0              2  ...               2                       3   \n",
       "1               0              3  ...               2                       3   \n",
       "2               0              3  ...               2                       2   \n",
       "3               0              3  ...               3                       1   \n",
       "4               0              3  ...               4                       2   \n",
       "\n",
       "   On-board service  Leg room service  Baggage handling  Checkin service  \\\n",
       "0                 3                 0                 3                5   \n",
       "1                 4                 4                 4                2   \n",
       "2                 3                 3                 4                4   \n",
       "3                 1                 0                 1                4   \n",
       "4                 2                 0                 2                4   \n",
       "\n",
       "   Cleanliness  Online boarding  Departure Delay in Minutes  \\\n",
       "0            3                2                           0   \n",
       "1            3                2                         310   \n",
       "2            4                2                           0   \n",
       "3            1                3                           0   \n",
       "4            2                5                           0   \n",
       "\n",
       "   Arrival Delay in Minutes  \n",
       "0                       0.0  \n",
       "1                     305.0  \n",
       "2                       0.0  \n",
       "3                       0.0  \n",
       "4                       0.0  \n",
       "\n",
       "[5 rows x 22 columns]"
      ]
     },
     "execution_count": 67,
     "metadata": {},
     "output_type": "execute_result"
    }
   ],
   "source": [
    "df = pd.read_csv('Airline_customer_satisfaction.csv')\n",
    "df.head()"
   ]
  },
  {
   "cell_type": "markdown",
   "id": "05e66c6d",
   "metadata": {
    "ExecuteTime": {
     "end_time": "2024-07-01T06:30:30.441523Z",
     "start_time": "2024-07-01T06:30:30.435853Z"
    }
   },
   "source": [
    "***DATA CELANING AND EDA***"
   ]
  },
  {
   "cell_type": "code",
   "execution_count": 68,
   "id": "e8b1f671",
   "metadata": {
    "ExecuteTime": {
     "end_time": "2024-07-01T06:43:10.578658Z",
     "start_time": "2024-07-01T06:43:10.572961Z"
    }
   },
   "outputs": [],
   "source": [
    "# column name have spaces and remove them\n",
    "df.rename(columns={\"satisfaction\": \"satisfaction\"},inplace = True)"
   ]
  },
  {
   "cell_type": "code",
   "execution_count": 69,
   "id": "3a8832bb",
   "metadata": {
    "ExecuteTime": {
     "end_time": "2024-07-01T06:43:10.593503Z",
     "start_time": "2024-07-01T06:43:10.580655Z"
    }
   },
   "outputs": [
    {
     "data": {
      "text/plain": [
       "satisfaction\n",
       "satisfied       71087\n",
       "dissatisfied    58793\n",
       "Name: count, dtype: int64"
      ]
     },
     "execution_count": 69,
     "metadata": {},
     "output_type": "execute_result"
    }
   ],
   "source": [
    "# We can See Dataset is imbalanced\n",
    "df[\"satisfaction\"].value_counts()"
   ]
  },
  {
   "cell_type": "code",
   "execution_count": 70,
   "id": "a4ef8ff5",
   "metadata": {
    "ExecuteTime": {
     "end_time": "2024-07-01T06:43:10.642352Z",
     "start_time": "2024-07-01T06:43:10.610398Z"
    }
   },
   "outputs": [
    {
     "data": {
      "text/html": [
       "<div>\n",
       "<style scoped>\n",
       "    .dataframe tbody tr th:only-of-type {\n",
       "        vertical-align: middle;\n",
       "    }\n",
       "\n",
       "    .dataframe tbody tr th {\n",
       "        vertical-align: top;\n",
       "    }\n",
       "\n",
       "    .dataframe thead th {\n",
       "        text-align: right;\n",
       "    }\n",
       "</style>\n",
       "<table border=\"1\" class=\"dataframe\">\n",
       "  <thead>\n",
       "    <tr style=\"text-align: right;\">\n",
       "      <th></th>\n",
       "      <th>satisfaction</th>\n",
       "      <th>Customer Type</th>\n",
       "      <th>Type of Travel</th>\n",
       "      <th>Class</th>\n",
       "    </tr>\n",
       "  </thead>\n",
       "  <tbody>\n",
       "    <tr>\n",
       "      <th>0</th>\n",
       "      <td>satisfied</td>\n",
       "      <td>Loyal Customer</td>\n",
       "      <td>Personal Travel</td>\n",
       "      <td>Eco</td>\n",
       "    </tr>\n",
       "    <tr>\n",
       "      <th>1</th>\n",
       "      <td>satisfied</td>\n",
       "      <td>Loyal Customer</td>\n",
       "      <td>Personal Travel</td>\n",
       "      <td>Business</td>\n",
       "    </tr>\n",
       "    <tr>\n",
       "      <th>2</th>\n",
       "      <td>satisfied</td>\n",
       "      <td>Loyal Customer</td>\n",
       "      <td>Personal Travel</td>\n",
       "      <td>Eco</td>\n",
       "    </tr>\n",
       "    <tr>\n",
       "      <th>3</th>\n",
       "      <td>satisfied</td>\n",
       "      <td>Loyal Customer</td>\n",
       "      <td>Personal Travel</td>\n",
       "      <td>Eco</td>\n",
       "    </tr>\n",
       "    <tr>\n",
       "      <th>4</th>\n",
       "      <td>satisfied</td>\n",
       "      <td>Loyal Customer</td>\n",
       "      <td>Personal Travel</td>\n",
       "      <td>Eco</td>\n",
       "    </tr>\n",
       "  </tbody>\n",
       "</table>\n",
       "</div>"
      ],
      "text/plain": [
       "  satisfaction   Customer Type   Type of Travel     Class\n",
       "0    satisfied  Loyal Customer  Personal Travel       Eco\n",
       "1    satisfied  Loyal Customer  Personal Travel  Business\n",
       "2    satisfied  Loyal Customer  Personal Travel       Eco\n",
       "3    satisfied  Loyal Customer  Personal Travel       Eco\n",
       "4    satisfied  Loyal Customer  Personal Travel       Eco"
      ]
     },
     "execution_count": 70,
     "metadata": {},
     "output_type": "execute_result"
    }
   ],
   "source": [
    "cat_features = df.select_dtypes(include='object')\n",
    "cat_features.head()"
   ]
  },
  {
   "cell_type": "markdown",
   "id": "2c577bd6",
   "metadata": {},
   "source": [
    "***DATA ENCODING FOR CATEGORICAL VARIABLES***"
   ]
  },
  {
   "cell_type": "code",
   "execution_count": 71,
   "id": "9b498e28",
   "metadata": {
    "ExecuteTime": {
     "end_time": "2024-07-01T06:43:10.681068Z",
     "start_time": "2024-07-01T06:43:10.644594Z"
    }
   },
   "outputs": [],
   "source": [
    "# encoding category columns\n",
    "le = LabelEncoder()\n",
    "encoded_num_df = pd.DataFrame()\n",
    "for col in cat_features.columns:\n",
    "    encoded_num_df[col] = le.fit_transform(cat_features[col])"
   ]
  },
  {
   "cell_type": "code",
   "execution_count": 72,
   "id": "d7e96fe1",
   "metadata": {
    "ExecuteTime": {
     "end_time": "2024-07-01T06:43:10.691002Z",
     "start_time": "2024-07-01T06:43:10.683076Z"
    }
   },
   "outputs": [
    {
     "data": {
      "text/html": [
       "<div>\n",
       "<style scoped>\n",
       "    .dataframe tbody tr th:only-of-type {\n",
       "        vertical-align: middle;\n",
       "    }\n",
       "\n",
       "    .dataframe tbody tr th {\n",
       "        vertical-align: top;\n",
       "    }\n",
       "\n",
       "    .dataframe thead th {\n",
       "        text-align: right;\n",
       "    }\n",
       "</style>\n",
       "<table border=\"1\" class=\"dataframe\">\n",
       "  <thead>\n",
       "    <tr style=\"text-align: right;\">\n",
       "      <th></th>\n",
       "      <th>satisfaction</th>\n",
       "      <th>Customer Type</th>\n",
       "      <th>Type of Travel</th>\n",
       "      <th>Class</th>\n",
       "    </tr>\n",
       "  </thead>\n",
       "  <tbody>\n",
       "    <tr>\n",
       "      <th>0</th>\n",
       "      <td>1</td>\n",
       "      <td>0</td>\n",
       "      <td>1</td>\n",
       "      <td>1</td>\n",
       "    </tr>\n",
       "    <tr>\n",
       "      <th>1</th>\n",
       "      <td>1</td>\n",
       "      <td>0</td>\n",
       "      <td>1</td>\n",
       "      <td>0</td>\n",
       "    </tr>\n",
       "    <tr>\n",
       "      <th>2</th>\n",
       "      <td>1</td>\n",
       "      <td>0</td>\n",
       "      <td>1</td>\n",
       "      <td>1</td>\n",
       "    </tr>\n",
       "    <tr>\n",
       "      <th>3</th>\n",
       "      <td>1</td>\n",
       "      <td>0</td>\n",
       "      <td>1</td>\n",
       "      <td>1</td>\n",
       "    </tr>\n",
       "    <tr>\n",
       "      <th>4</th>\n",
       "      <td>1</td>\n",
       "      <td>0</td>\n",
       "      <td>1</td>\n",
       "      <td>1</td>\n",
       "    </tr>\n",
       "  </tbody>\n",
       "</table>\n",
       "</div>"
      ],
      "text/plain": [
       "   satisfaction  Customer Type  Type of Travel  Class\n",
       "0             1              0               1      1\n",
       "1             1              0               1      0\n",
       "2             1              0               1      1\n",
       "3             1              0               1      1\n",
       "4             1              0               1      1"
      ]
     },
     "execution_count": 72,
     "metadata": {},
     "output_type": "execute_result"
    }
   ],
   "source": [
    "encoded_num_df.head()"
   ]
  },
  {
   "cell_type": "code",
   "execution_count": 73,
   "id": "a5aeab62",
   "metadata": {
    "ExecuteTime": {
     "end_time": "2024-07-01T06:43:10.716723Z",
     "start_time": "2024-07-01T06:43:10.693422Z"
    }
   },
   "outputs": [
    {
     "data": {
      "text/html": [
       "<div>\n",
       "<style scoped>\n",
       "    .dataframe tbody tr th:only-of-type {\n",
       "        vertical-align: middle;\n",
       "    }\n",
       "\n",
       "    .dataframe tbody tr th {\n",
       "        vertical-align: top;\n",
       "    }\n",
       "\n",
       "    .dataframe thead th {\n",
       "        text-align: right;\n",
       "    }\n",
       "</style>\n",
       "<table border=\"1\" class=\"dataframe\">\n",
       "  <thead>\n",
       "    <tr style=\"text-align: right;\">\n",
       "      <th></th>\n",
       "      <th>satisfaction</th>\n",
       "      <th>Customer Type</th>\n",
       "      <th>Type of Travel</th>\n",
       "      <th>Class</th>\n",
       "      <th>Flight Distance</th>\n",
       "      <th>Seat comfort</th>\n",
       "      <th>Departure/Arrival time convenient</th>\n",
       "      <th>Food and drink</th>\n",
       "      <th>Gate location</th>\n",
       "      <th>Inflight wifi service</th>\n",
       "      <th>...</th>\n",
       "      <th>Online support</th>\n",
       "      <th>Ease of Online booking</th>\n",
       "      <th>On-board service</th>\n",
       "      <th>Leg room service</th>\n",
       "      <th>Baggage handling</th>\n",
       "      <th>Checkin service</th>\n",
       "      <th>Cleanliness</th>\n",
       "      <th>Online boarding</th>\n",
       "      <th>Departure Delay in Minutes</th>\n",
       "      <th>Arrival Delay in Minutes</th>\n",
       "    </tr>\n",
       "  </thead>\n",
       "  <tbody>\n",
       "    <tr>\n",
       "      <th>0</th>\n",
       "      <td>1</td>\n",
       "      <td>0</td>\n",
       "      <td>1</td>\n",
       "      <td>1</td>\n",
       "      <td>265</td>\n",
       "      <td>0</td>\n",
       "      <td>0</td>\n",
       "      <td>0</td>\n",
       "      <td>2</td>\n",
       "      <td>2</td>\n",
       "      <td>...</td>\n",
       "      <td>2</td>\n",
       "      <td>3</td>\n",
       "      <td>3</td>\n",
       "      <td>0</td>\n",
       "      <td>3</td>\n",
       "      <td>5</td>\n",
       "      <td>3</td>\n",
       "      <td>2</td>\n",
       "      <td>0</td>\n",
       "      <td>0.0</td>\n",
       "    </tr>\n",
       "    <tr>\n",
       "      <th>1</th>\n",
       "      <td>1</td>\n",
       "      <td>0</td>\n",
       "      <td>1</td>\n",
       "      <td>0</td>\n",
       "      <td>2464</td>\n",
       "      <td>0</td>\n",
       "      <td>0</td>\n",
       "      <td>0</td>\n",
       "      <td>3</td>\n",
       "      <td>0</td>\n",
       "      <td>...</td>\n",
       "      <td>2</td>\n",
       "      <td>3</td>\n",
       "      <td>4</td>\n",
       "      <td>4</td>\n",
       "      <td>4</td>\n",
       "      <td>2</td>\n",
       "      <td>3</td>\n",
       "      <td>2</td>\n",
       "      <td>310</td>\n",
       "      <td>305.0</td>\n",
       "    </tr>\n",
       "    <tr>\n",
       "      <th>2</th>\n",
       "      <td>1</td>\n",
       "      <td>0</td>\n",
       "      <td>1</td>\n",
       "      <td>1</td>\n",
       "      <td>2138</td>\n",
       "      <td>0</td>\n",
       "      <td>0</td>\n",
       "      <td>0</td>\n",
       "      <td>3</td>\n",
       "      <td>2</td>\n",
       "      <td>...</td>\n",
       "      <td>2</td>\n",
       "      <td>2</td>\n",
       "      <td>3</td>\n",
       "      <td>3</td>\n",
       "      <td>4</td>\n",
       "      <td>4</td>\n",
       "      <td>4</td>\n",
       "      <td>2</td>\n",
       "      <td>0</td>\n",
       "      <td>0.0</td>\n",
       "    </tr>\n",
       "    <tr>\n",
       "      <th>3</th>\n",
       "      <td>1</td>\n",
       "      <td>0</td>\n",
       "      <td>1</td>\n",
       "      <td>1</td>\n",
       "      <td>623</td>\n",
       "      <td>0</td>\n",
       "      <td>0</td>\n",
       "      <td>0</td>\n",
       "      <td>3</td>\n",
       "      <td>3</td>\n",
       "      <td>...</td>\n",
       "      <td>3</td>\n",
       "      <td>1</td>\n",
       "      <td>1</td>\n",
       "      <td>0</td>\n",
       "      <td>1</td>\n",
       "      <td>4</td>\n",
       "      <td>1</td>\n",
       "      <td>3</td>\n",
       "      <td>0</td>\n",
       "      <td>0.0</td>\n",
       "    </tr>\n",
       "    <tr>\n",
       "      <th>4</th>\n",
       "      <td>1</td>\n",
       "      <td>0</td>\n",
       "      <td>1</td>\n",
       "      <td>1</td>\n",
       "      <td>354</td>\n",
       "      <td>0</td>\n",
       "      <td>0</td>\n",
       "      <td>0</td>\n",
       "      <td>3</td>\n",
       "      <td>4</td>\n",
       "      <td>...</td>\n",
       "      <td>4</td>\n",
       "      <td>2</td>\n",
       "      <td>2</td>\n",
       "      <td>0</td>\n",
       "      <td>2</td>\n",
       "      <td>4</td>\n",
       "      <td>2</td>\n",
       "      <td>5</td>\n",
       "      <td>0</td>\n",
       "      <td>0.0</td>\n",
       "    </tr>\n",
       "  </tbody>\n",
       "</table>\n",
       "<p>5 rows × 21 columns</p>\n",
       "</div>"
      ],
      "text/plain": [
       "   satisfaction  Customer Type  Type of Travel  Class  Flight Distance  \\\n",
       "0             1              0               1      1              265   \n",
       "1             1              0               1      0             2464   \n",
       "2             1              0               1      1             2138   \n",
       "3             1              0               1      1              623   \n",
       "4             1              0               1      1              354   \n",
       "\n",
       "   Seat comfort  Departure/Arrival time convenient  Food and drink  \\\n",
       "0             0                                  0               0   \n",
       "1             0                                  0               0   \n",
       "2             0                                  0               0   \n",
       "3             0                                  0               0   \n",
       "4             0                                  0               0   \n",
       "\n",
       "   Gate location  Inflight wifi service  ...  Online support  \\\n",
       "0              2                      2  ...               2   \n",
       "1              3                      0  ...               2   \n",
       "2              3                      2  ...               2   \n",
       "3              3                      3  ...               3   \n",
       "4              3                      4  ...               4   \n",
       "\n",
       "   Ease of Online booking  On-board service  Leg room service  \\\n",
       "0                       3                 3                 0   \n",
       "1                       3                 4                 4   \n",
       "2                       2                 3                 3   \n",
       "3                       1                 1                 0   \n",
       "4                       2                 2                 0   \n",
       "\n",
       "   Baggage handling  Checkin service  Cleanliness  Online boarding  \\\n",
       "0                 3                5            3                2   \n",
       "1                 4                2            3                2   \n",
       "2                 4                4            4                2   \n",
       "3                 1                4            1                3   \n",
       "4                 2                4            2                5   \n",
       "\n",
       "   Departure Delay in Minutes  Arrival Delay in Minutes  \n",
       "0                           0                       0.0  \n",
       "1                         310                     305.0  \n",
       "2                           0                       0.0  \n",
       "3                           0                       0.0  \n",
       "4                           0                       0.0  \n",
       "\n",
       "[5 rows x 21 columns]"
      ]
     },
     "execution_count": 73,
     "metadata": {},
     "output_type": "execute_result"
    }
   ],
   "source": [
    "# final data\n",
    "f_data = pd.concat([encoded_num_df,df.drop(['satisfaction','Customer Type','Age','Type of Travel','Class'],axis=1)],axis=1)\n",
    "f_data.head()"
   ]
  },
  {
   "cell_type": "markdown",
   "id": "196a0fb3",
   "metadata": {
    "ExecuteTime": {
     "end_time": "2024-07-01T06:31:23.558143Z",
     "start_time": "2024-07-01T06:31:23.550731Z"
    }
   },
   "source": [
    "***TEST TRAIN SPLIT***"
   ]
  },
  {
   "cell_type": "code",
   "execution_count": 74,
   "id": "88229283",
   "metadata": {
    "ExecuteTime": {
     "end_time": "2024-07-01T06:43:10.746705Z",
     "start_time": "2024-07-01T06:43:10.718765Z"
    }
   },
   "outputs": [],
   "source": [
    "# split data training and testing \n",
    "x_train,x_test,y_train,y_test = train_test_split(f_data.drop('satisfaction',axis=1),f_data['satisfaction'],test_size=0.2,random_state=42)"
   ]
  },
  {
   "cell_type": "markdown",
   "id": "af4c9dc0",
   "metadata": {},
   "source": [
    "***SCALING THE DATA***"
   ]
  },
  {
   "cell_type": "code",
   "execution_count": 75,
   "id": "2750918f",
   "metadata": {
    "ExecuteTime": {
     "end_time": "2024-07-01T06:43:10.790423Z",
     "start_time": "2024-07-01T06:43:10.750728Z"
    }
   },
   "outputs": [],
   "source": [
    "# scale data to 0 to 1 range \n",
    "sc = MinMaxScaler()\n",
    "sc_x_train = pd.DataFrame(sc.fit_transform(x_train),columns=sc.feature_names_in_)\n",
    "sc_x_test = pd.DataFrame(sc.fit_transform(x_test),columns=sc.feature_names_in_)"
   ]
  },
  {
   "cell_type": "code",
   "execution_count": 76,
   "id": "24f41edf",
   "metadata": {
    "ExecuteTime": {
     "end_time": "2024-07-01T06:43:14.325405Z",
     "start_time": "2024-07-01T06:43:10.792420Z"
    }
   },
   "outputs": [],
   "source": [
    "sc_x_train.fillna(sc_x_train.mean(), inplace=True)\n",
    "mutual_info_scores = mutual_info_classif(sc_x_train, y_train)\n",
    "feature_scores_df = pd.DataFrame({'Feature': sc_x_train.columns, 'Mutual_Info_Score': mutual_info_scores})\n",
    "feature_scores_df = feature_scores_df.sort_values(by='Mutual_Info_Score', ascending=False)"
   ]
  },
  {
   "cell_type": "markdown",
   "id": "01660d49",
   "metadata": {},
   "source": [
    "***SELECT FEATURES BASED ON FEATURE IMPORTANCE***"
   ]
  },
  {
   "cell_type": "code",
   "execution_count": 77,
   "id": "f211d1f7",
   "metadata": {
    "ExecuteTime": {
     "end_time": "2024-07-01T06:43:14.340015Z",
     "start_time": "2024-07-01T06:43:14.325405Z"
    }
   },
   "outputs": [
    {
     "name": "stdout",
     "output_type": "stream",
     "text": [
      "Selected Features: ['Inflight entertainment', 'Seat comfort', 'Ease of Online booking', 'Online support', 'On-board service', 'Online boarding', 'Leg room service', 'Class', 'Cleanliness', 'Baggage handling', 'Customer Type', 'Checkin service', 'Food and drink', 'Inflight wifi service', 'Flight Distance']\n"
     ]
    }
   ],
   "source": [
    "# choose 15 top features for model training\n",
    "selected_features = feature_scores_df.head(15)['Feature'].tolist()\n",
    "print(\"Selected Features:\", selected_features)"
   ]
  },
  {
   "cell_type": "code",
   "execution_count": 78,
   "id": "95d5761e",
   "metadata": {
    "ExecuteTime": {
     "end_time": "2024-07-01T06:43:14.355152Z",
     "start_time": "2024-07-01T06:43:14.340015Z"
    }
   },
   "outputs": [],
   "source": [
    "# Select data with selected features\n",
    "feature_selection_train = sc_x_train[selected_features]\n",
    "feature_selection_test = sc_x_test[selected_features]"
   ]
  },
  {
   "cell_type": "markdown",
   "id": "f0a9abdb",
   "metadata": {},
   "source": [
    "***FIT LOGISTIC REGRESSION***"
   ]
  },
  {
   "cell_type": "code",
   "execution_count": 79,
   "id": "ed75a390",
   "metadata": {
    "ExecuteTime": {
     "end_time": "2024-07-01T06:43:14.513637Z",
     "start_time": "2024-07-01T06:43:14.357668Z"
    }
   },
   "outputs": [
    {
     "name": "stdout",
     "output_type": "stream",
     "text": [
      "              precision    recall  f1-score   support\n",
      "\n",
      "           0       0.78      0.84      0.81     11675\n",
      "           1       0.86      0.81      0.83     14301\n",
      "\n",
      "    accuracy                           0.82     25976\n",
      "   macro avg       0.82      0.82      0.82     25976\n",
      "weighted avg       0.82      0.82      0.82     25976\n",
      "\n"
     ]
    }
   ],
   "source": [
    "# classification report with selected features using LogisticRegression\n",
    "\n",
    "from sklearn.linear_model import LogisticRegression\n",
    "from sklearn.metrics import classification_report\n",
    "\n",
    "logreg = LogisticRegression(max_iter=200)\n",
    "logreg.fit(feature_selection_train, y_train)\n",
    "y_pred = logreg.predict(feature_selection_test)\n",
    "\n",
    "logrepo= classification_report(y_test, y_pred)\n",
    "print(logrepo)"
   ]
  },
  {
   "cell_type": "markdown",
   "id": "9135fe96",
   "metadata": {},
   "source": [
    "***ROC CURVE AND AUC VALUE***"
   ]
  },
  {
   "cell_type": "code",
   "execution_count": 80,
   "id": "f435ec53",
   "metadata": {
    "ExecuteTime": {
     "end_time": "2024-07-01T06:43:14.848213Z",
     "start_time": "2024-07-01T06:43:14.516505Z"
    }
   },
   "outputs": [
    {
     "data": {
      "image/png": "[encoded data removed]",
      "text/plain": [
       "<Figure size 640x480 with 1 Axes>"
      ]
     },
     "metadata": {},
     "output_type": "display_data"
    }
   ],
   "source": [
    "# Get predicted probabilities\n",
    "y_pred_proba_log = logreg.predict_proba(feature_selection_test)[:, 1]\n",
    "# Calculate ROC curve and AUC\n",
    "fpr, tpr, thresholds = roc_curve(y_test, y_pred_proba_log)\n",
    "roc_auc = auc(fpr, tpr)\n",
    "\n",
    "# Plot ROC curve\n",
    "plt.figure()\n",
    "plt.plot(fpr, tpr, color='darkorange', lw=2, label='ROC curve (AUC = %0.2f)' % roc_auc)\n",
    "plt.plot([0, 1], [0, 1], color='navy', lw=2, linestyle='--')\n",
    "plt.xlim([0.0, 1.0])\n",
    "plt.ylim([0.0, 1.05])\n",
    "plt.xlabel('False Positive Rate')\n",
    "plt.ylabel('True Positive Rate')\n",
    "plt.title('Receiver Operating Characteristic')\n",
    "plt.legend(loc=\"lower right\")\n",
    "plt.show()"
   ]
  },
  {
   "cell_type": "markdown",
   "id": "b303b07c",
   "metadata": {
    "ExecuteTime": {
     "end_time": "2024-07-01T06:33:54.171184Z",
     "start_time": "2024-07-01T06:33:54.164923Z"
    }
   },
   "source": [
    "***CONFUSION MATRIX***"
   ]
  },
  {
   "cell_type": "code",
   "execution_count": 81,
   "id": "eb2bd404",
   "metadata": {
    "ExecuteTime": {
     "end_time": "2024-07-01T06:43:15.125714Z",
     "start_time": "2024-07-01T06:43:14.852206Z"
    }
   },
   "outputs": [
    {
     "data": {
      "image/png": "[encoded data removed]",
      "text/plain": [
       "<Figure size 640x480 with 2 Axes>"
      ]
     },
     "metadata": {},
     "output_type": "display_data"
    }
   ],
   "source": [
    "# the confusion matrix\n",
    "conf_matrix = confusion_matrix(y_test, y_pred)\n",
    "\n",
    "# Display the confusion matrix\n",
    "disp = ConfusionMatrixDisplay(confusion_matrix=conf_matrix)\n",
    "disp.plot()\n",
    "plt.show()"
   ]
  },
  {
   "cell_type": "markdown",
   "id": "0b586242",
   "metadata": {},
   "source": [
    "***DECISION TREE CLASSIFIER***"
   ]
  },
  {
   "cell_type": "code",
   "execution_count": 82,
   "id": "105170af",
   "metadata": {
    "ExecuteTime": {
     "end_time": "2024-07-01T06:43:15.785573Z",
     "start_time": "2024-07-01T06:43:15.128605Z"
    }
   },
   "outputs": [
    {
     "name": "stdout",
     "output_type": "stream",
     "text": [
      "              precision    recall  f1-score   support\n",
      "\n",
      "           0       0.89      0.86      0.88     11675\n",
      "           1       0.89      0.91      0.90     14301\n",
      "\n",
      "    accuracy                           0.89     25976\n",
      "   macro avg       0.89      0.89      0.89     25976\n",
      "weighted avg       0.89      0.89      0.89     25976\n",
      "\n"
     ]
    }
   ],
   "source": [
    "from sklearn.tree import DecisionTreeClassifier\n",
    "\n",
    "# Train a Decision Tree Classifier\n",
    "dt_classifier = DecisionTreeClassifier(random_state=42)\n",
    "dt_classifier.fit(feature_selection_train, y_train)\n",
    "\n",
    "# Predict on the test set\n",
    "y_pred_dt = dt_classifier.predict(feature_selection_test)\n",
    "\n",
    "# Print classification report\n",
    "dtree= classification_report(y_test, y_pred_dt)\n",
    "print(dtree)"
   ]
  },
  {
   "cell_type": "markdown",
   "id": "f551f926",
   "metadata": {},
   "source": [
    "***ROC CURVE AND AUC VALUE***"
   ]
  },
  {
   "cell_type": "code",
   "execution_count": 83,
   "id": "31364573",
   "metadata": {
    "ExecuteTime": {
     "end_time": "2024-07-01T06:43:16.051162Z",
     "start_time": "2024-07-01T06:43:15.789198Z"
    }
   },
   "outputs": [
    {
     "data": {
      "image/png": "[encoded data removed]",
      "text/plain": [
       "<Figure size 640x480 with 1 Axes>"
      ]
     },
     "metadata": {},
     "output_type": "display_data"
    }
   ],
   "source": [
    "# Get predicted probabilities\n",
    "y_pred_proba = dt_classifier.predict_proba(feature_selection_test)[:, 1]\n",
    "\n",
    "# Calculate ROC curve and AUC\n",
    "fpr, tpr, thresholds = roc_curve(y_test, y_pred_proba)\n",
    "roc_auc = auc(fpr, tpr)\n",
    "\n",
    "# Plot ROC curve\n",
    "plt.figure()\n",
    "plt.plot(fpr, tpr, color='darkorange', lw=2, label='ROC curve (area = %0.2f)' % roc_auc)\n",
    "plt.plot([0, 1], [0, 1], color='navy', lw=2, linestyle='--')\n",
    "plt.xlim([0.0, 1.0])\n",
    "plt.ylim([0.0, 1.05])\n",
    "plt.xlabel('False Positive Rate')\n",
    "plt.ylabel('True Positive Rate')\n",
    "plt.title('Receiver Operating Characteristic')\n",
    "plt.legend(loc=\"lower right\")\n",
    "plt.show()"
   ]
  },
  {
   "cell_type": "markdown",
   "id": "6e1c256e",
   "metadata": {
    "ExecuteTime": {
     "end_time": "2024-07-01T06:34:27.618778Z",
     "start_time": "2024-07-01T06:34:27.609268Z"
    }
   },
   "source": [
    "***CONFUSION MATRIX***"
   ]
  },
  {
   "cell_type": "code",
   "execution_count": 84,
   "id": "44b05343",
   "metadata": {
    "ExecuteTime": {
     "end_time": "2024-07-01T06:43:16.311523Z",
     "start_time": "2024-07-01T06:43:16.055221Z"
    },
    "scrolled": false
   },
   "outputs": [
    {
     "data": {
      "image/png": "[encoded data removed]",
      "text/plain": [
       "<Figure size 640x480 with 2 Axes>"
      ]
     },
     "metadata": {},
     "output_type": "display_data"
    }
   ],
   "source": [
    "# Compute the confusion matrix\n",
    "conf_matrix2 = confusion_matrix(y_test, y_pred_dt)\n",
    "\n",
    "# Display the confusion matrix\n",
    "disp = ConfusionMatrixDisplay(confusion_matrix=conf_matrix2)\n",
    "disp.plot()\n",
    "plt.show()"
   ]
  },
  {
   "cell_type": "code",
   "execution_count": 85,
   "id": "ee954c20",
   "metadata": {
    "ExecuteTime": {
     "end_time": "2024-07-01T06:43:16.324371Z",
     "start_time": "2024-07-01T06:43:16.315552Z"
    }
   },
   "outputs": [],
   "source": [
    "import re\n",
    "def parse_classification_report(report):\n",
    "    # Split the report by lines\n",
    "    lines = report.split('\\n')\n",
    "    parsed_data = []\n",
    "    \n",
    "    for line in lines[2:-3]:  # Skip headers and footers\n",
    "        line_data = re.split(r'\\s{2,}', line.strip())\n",
    "        if len(line_data) < 5:\n",
    "            continue\n",
    "        class_name = line_data[0]\n",
    "        precision = float(line_data[1])\n",
    "        recall = float(line_data[2])\n",
    "        f1_score = float(line_data[3])\n",
    "        support = float(line_data[4])\n",
    "        \n",
    "        parsed_data.append({\n",
    "            'class': class_name,\n",
    "            'precision': precision,\n",
    "            'recall': recall,\n",
    "            'f1-score': f1_score,\n",
    "            'support': support\n",
    "        })\n",
    "    \n",
    "    df = pd.DataFrame(parsed_data)\n",
    "    return df"
   ]
  },
  {
   "cell_type": "code",
   "execution_count": 86,
   "id": "d9cf65c7",
   "metadata": {
    "ExecuteTime": {
     "end_time": "2024-07-01T06:43:16.335965Z",
     "start_time": "2024-07-01T06:43:16.327124Z"
    }
   },
   "outputs": [],
   "source": [
    "df1 = parse_classification_report(dtree)\n",
    "df2 = parse_classification_report(logrepo)"
   ]
  },
  {
   "cell_type": "code",
   "execution_count": 87,
   "id": "c8a7b778",
   "metadata": {
    "ExecuteTime": {
     "end_time": "2024-07-01T06:43:16.354052Z",
     "start_time": "2024-07-01T06:43:16.340479Z"
    }
   },
   "outputs": [
    {
     "name": "stdout",
     "output_type": "stream",
     "text": [
      "                 model class  precision  recall  f1-score  support\n",
      "0        Decision Tree     0       0.89    0.86      0.88  11675.0\n",
      "1        Decision Tree     1       0.89    0.91      0.90  14301.0\n",
      "0  Logistic Regression     0       0.78    0.84      0.81  11675.0\n",
      "1  Logistic Regression     1       0.86    0.81      0.83  14301.0\n"
     ]
    }
   ],
   "source": [
    "# Add model names and overall accuracy\n",
    "df1['model'] = 'Decision Tree'\n",
    "df2['model'] = 'Logistic Regression'\n",
    "\n",
    "# Concatenate the two dataframes\n",
    "comparison_df = pd.concat([df1, df2])\n",
    "\n",
    "# Reorder columns\n",
    "comparison_df = comparison_df[['model', 'class', 'precision', 'recall', 'f1-score', 'support']]\n",
    "\n",
    "# Display the comparison table\n",
    "print(comparison_df)"
   ]
  }
 ],
 "metadata": {
  "kernelspec": {
   "display_name": "Python 3 (ipykernel)",
   "language": "python",
   "name": "python3"
  },
  "language_info": {
   "codemirror_mode": {
    "name": "ipython",
    "version": 3
   },
   "file_extension": ".py",
   "mimetype": "text/x-python",
   "name": "python",
   "nbconvert_exporter": "python",
   "pygments_lexer": "ipython3",
   "version": "3.11.5"
  },
  "varInspector": {
   "cols": {
    "lenName": 16,
    "lenType": 16,
    "lenVar": 40
   },
   "kernels_config": {
    "python": {
     "delete_cmd_postfix": "",
     "delete_cmd_prefix": "del ",
     "library": "var_list.py",
     "varRefreshCmd": "print(var_dic_list())"
    },
    "r": {
     "delete_cmd_postfix": ") ",
     "delete_cmd_prefix": "rm(",
     "library": "var_list.r",
     "varRefreshCmd": "cat(var_dic_list()) "
    }
   },
   "types_to_exclude": [
    "module",
    "function",
    "builtin_function_or_method",
    "instance",
    "_Feature"
   ],
   "window_display": false
  }
 },
 "nbformat": 4,
 "nbformat_minor": 5
}
