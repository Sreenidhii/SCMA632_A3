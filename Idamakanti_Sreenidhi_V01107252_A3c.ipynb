{
 "cells": [
  {
   "cell_type": "code",
   "execution_count": 15,
   "id": "eaebd738-ba20-434e-8b1a-b943e6248b4b",
   "metadata": {},
   "outputs": [],
   "source": [
    "import pandas as pd\n",
    "import statsmodels.api as sm\n",
    "from statsmodels.base.model import GenericLikelihoodModel\n",
    "import numpy as np\n",
    "from scipy.stats import norm"
   ]
  },
  {
   "cell_type": "code",
   "execution_count": 16,
   "id": "23cf49a4-fbb5-4f9f-84fb-19c0bc2442c6",
   "metadata": {},
   "outputs": [
    {
     "name": "stdout",
     "output_type": "stream",
     "text": [
      "   slno       grp  Round_Centre  FSU_number  Round  Schedule_Number  Sample  \\\n",
      "0     1  4.10E+31             1       41000     68               10       1   \n",
      "1     2  4.10E+31             1       41000     68               10       1   \n",
      "2     3  4.10E+31             1       41000     68               10       1   \n",
      "3     4  4.10E+31             1       41000     68               10       1   \n",
      "4     5  4.10E+31             1       41000     68               10       1   \n",
      "\n",
      "   Sector  state  State_Region  ...  pickle_v  sauce_jam_v  Othrprocessed_v  \\\n",
      "0       2     24           242  ...       0.0          0.0              0.0   \n",
      "1       2     24           242  ...       0.0          0.0              0.0   \n",
      "2       2     24           242  ...       0.0          0.0              0.0   \n",
      "3       2     24           242  ...       0.0          0.0              0.0   \n",
      "4       2     24           242  ...       0.0          0.0              0.0   \n",
      "\n",
      "   Beveragestotal_v  foodtotal_v  foodtotal_q  state_1  Region  \\\n",
      "0          0.000000  1141.492400    30.942394      GUJ       2   \n",
      "1         17.500000  1244.553500    29.286153      GUJ       2   \n",
      "2          0.000000  1050.315400    31.527046      GUJ       2   \n",
      "3         33.333333  1142.591667    27.834607      GUJ       2   \n",
      "4         75.000000   945.249500    27.600713      GUJ       2   \n",
      "\n",
      "   fruits_df_tt_v  fv_tot  \n",
      "0       12.000000  154.18  \n",
      "1      333.000000  484.95  \n",
      "2       35.000000  214.84  \n",
      "3      168.333333  302.30  \n",
      "4       15.000000  148.00  \n",
      "\n",
      "[5 rows x 384 columns]\n",
      "Index(['slno', 'grp', 'Round_Centre', 'FSU_number', 'Round', 'Schedule_Number',\n",
      "       'Sample', 'Sector', 'state', 'State_Region',\n",
      "       ...\n",
      "       'pickle_v', 'sauce_jam_v', 'Othrprocessed_v', 'Beveragestotal_v',\n",
      "       'foodtotal_v', 'foodtotal_q', 'state_1', 'Region', 'fruits_df_tt_v',\n",
      "       'fv_tot'],\n",
      "      dtype='object', length=384)\n"
     ]
    }
   ],
   "source": [
    "# Load the data with low_memory=False to avoid dtype warning\n",
    "data = pd.read_csv(\"D:\\\\CHRIST\\\\Boot camp\\\\DATA\\\\NSSO68.csv\", low_memory=False)\n",
    "\n",
    "# View the first few rows and columns\n",
    "print(data.head())\n",
    "print(data.columns)"
   ]
  },
  {
   "cell_type": "code",
   "execution_count": 17,
   "id": "8c10ac76-751a-480c-88b8-2296fa8725b2",
   "metadata": {},
   "outputs": [],
   "source": [
    "# Create a binary indicator for non-vegetarian status\n",
    "data['non_veg'] = ((data['nonvegtotal_q'] > 0) | \n",
    "                   (data['eggsno_q'] > 0) | \n",
    "                   (data['fishprawn_q'] > 0) | \n",
    "                   (data['goatmeat_q'] > 0) | \n",
    "                   (data['beef_q'] > 0) | \n",
    "                   (data['pork_q'] > 0) | \n",
    "                   (data['chicken_q'] > 0) | \n",
    "                   (data['othrbirds_q'] > 0)).astype(int)"
   ]
  },
  {
   "cell_type": "code",
   "execution_count": 18,
   "id": "2788e1e8-4fe6-4c1d-948e-b3d9993914f2",
   "metadata": {},
   "outputs": [
    {
     "name": "stdout",
     "output_type": "stream",
     "text": [
      "   Age  MPCE_URP  Education\n",
      "0   50   3304.80        8.0\n",
      "1   40   7613.00       12.0\n",
      "2   45   3461.40        7.0\n",
      "3   75   3339.00        6.0\n",
      "4   30   2604.25        7.0\n"
     ]
    }
   ],
   "source": [
    "# Ensure the columns 'Age', 'MPCE_URP', and 'Education' are present\n",
    "print(data[['Age', 'MPCE_URP', 'Education']].head())"
   ]
  },
  {
   "cell_type": "code",
   "execution_count": 19,
   "id": "0b80fbd0-610f-436b-b79c-cc06398602e5",
   "metadata": {},
   "outputs": [],
   "source": [
    "# Drop rows with missing values in these columns\n",
    "data.dropna(subset=['Age', 'MPCE_URP', 'Education', 'non_veg'], inplace=True)"
   ]
  },
  {
   "cell_type": "code",
   "execution_count": 20,
   "id": "b820b1a4-a0db-4ae9-b677-6f79867514c3",
   "metadata": {},
   "outputs": [],
   "source": [
    "# Prepare the data for the model\n",
    "X = data[['Age', 'MPCE_URP', 'Education']]\n",
    "y = data['non_veg']\n",
    "\n",
    "# Add a constant to the model (intercept)\n",
    "X = sm.add_constant(X)"
   ]
  },
  {
   "cell_type": "code",
   "execution_count": 21,
   "id": "0e026830-9510-4e08-8194-300e95946cc6",
   "metadata": {},
   "outputs": [
    {
     "name": "stderr",
     "output_type": "stream",
     "text": [
      "C:\\Users\\isrin\\AppData\\Local\\Temp\\ipykernel_11324\\223527810.py:17: RuntimeWarning: divide by zero encountered in log\n",
      "  ll = np.where(endog < self.left, np.log(norm.cdf(z_left)),\n",
      "C:\\Users\\isrin\\AppData\\Local\\Temp\\ipykernel_11324\\223527810.py:18: RuntimeWarning: divide by zero encountered in log\n",
      "  np.where(endog > self.right, np.log(norm.sf(z_right)),\n"
     ]
    },
    {
     "name": "stdout",
     "output_type": "stream",
     "text": [
      "Optimization terminated successfully.\n",
      "         Current function value: 0.718814\n",
      "         Iterations: 212\n",
      "         Function evaluations: 352\n",
      "                                Tobit Results                                 \n",
      "==============================================================================\n",
      "Dep. Variable:                non_veg   Log-Likelihood:                -73071.\n",
      "Model:                          Tobit   AIC:                         1.462e+05\n",
      "Method:            Maximum Likelihood   BIC:                         1.462e+05\n",
      "Date:                Mon, 01 Jul 2024                                         \n",
      "Time:                        20:10:50                                         \n",
      "No. Observations:              101655                                         \n",
      "Df Residuals:                  101651                                         \n",
      "Df Model:                           3                                         \n",
      "==============================================================================\n",
      "                 coef    std err          z      P>|z|      [0.025      0.975]\n",
      "------------------------------------------------------------------------------\n",
      "const          0.0052      0.008      0.692      0.489      -0.010       0.020\n",
      "Age            0.0107      0.000     82.978      0.000       0.010       0.011\n",
      "MPCE_URP   -1.156e-06   3.76e-07     -3.075      0.002   -1.89e-06   -4.19e-07\n",
      "Education      0.0210      0.000     46.020      0.000       0.020       0.022\n",
      "par0           0.4964      0.001    397.637      0.000       0.494       0.499\n",
      "==============================================================================\n"
     ]
    },
    {
     "name": "stderr",
     "output_type": "stream",
     "text": [
      "D:\\CHRIST\\PYTHON\\Lib\\site-packages\\statsmodels\\base\\model.py:2742: UserWarning: df_model + k_constant + k_extra differs from k_params\n",
      "  warnings.warn(\"df_model + k_constant + k_extra \"\n",
      "D:\\CHRIST\\PYTHON\\Lib\\site-packages\\statsmodels\\base\\model.py:2746: UserWarning: df_resid differs from nobs - k_params\n",
      "  warnings.warn(\"df_resid differs from nobs - k_params\")\n"
     ]
    }
   ],
   "source": [
    "# Custom Tobit model\n",
    "class Tobit(GenericLikelihoodModel):\n",
    "    def __init__(self, endog, exog, left=None, right=None, **kwds):\n",
    "        self.left = left\n",
    "        self.right = right\n",
    "        super(Tobit, self).__init__(endog, exog, **kwds)\n",
    "\n",
    "    def nloglikeobs(self, params):\n",
    "        exog = self.exog\n",
    "        endog = self.endog\n",
    "        beta = params[:-1]\n",
    "        sigma = params[-1]\n",
    "        xb = np.dot(exog, beta)\n",
    "        z_left = (self.left - xb) / sigma if self.left is not None else None\n",
    "        z_right = (self.right - xb) / sigma if self.right is not None else None\n",
    "\n",
    "        ll = np.where(endog < self.left, np.log(norm.cdf(z_left)),\n",
    "                      np.where(endog > self.right, np.log(norm.sf(z_right)),\n",
    "                               norm.logpdf((endog - xb) / sigma) - np.log(sigma)))\n",
    "        return -ll\n",
    "\n",
    "    def fit(self, start_params=None, maxiter=10000, maxfun=5000, **kwds):\n",
    "        if start_params is None:\n",
    "            start_params = np.append(np.zeros(self.exog.shape[1]), 1)\n",
    "        return super(Tobit, self).fit(start_params=start_params, maxiter=maxiter, maxfun=maxfun, **kwds)\n",
    "\n",
    "# Fit the Tobit model\n",
    "tobit_model = Tobit(y, X, left=0, right=1).fit()\n",
    "\n",
    "# Summary of the model\n",
    "print(tobit_model.summary())"
   ]
  }
 ],
 "metadata": {
  "kernelspec": {
   "display_name": "Python 3 (ipykernel)",
   "language": "python",
   "name": "python3"
  },
  "language_info": {
   "codemirror_mode": {
    "name": "ipython",
    "version": 3
   },
   "file_extension": ".py",
   "mimetype": "text/x-python",
   "name": "python",
   "nbconvert_exporter": "python",
   "pygments_lexer": "ipython3",
   "version": "3.11.5"
  }
 },
 "nbformat": 4,
 "nbformat_minor": 5
}
