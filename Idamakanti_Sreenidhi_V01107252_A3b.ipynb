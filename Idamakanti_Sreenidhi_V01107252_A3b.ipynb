{
 "cells": [
  {
   "cell_type": "code",
   "execution_count": 3,
   "id": "20a37d98-b1e3-426e-a77b-3590d9fb9164",
   "metadata": {},
   "outputs": [],
   "source": [
    "import pandas as pd\n",
    "import statsmodels.api as sm"
   ]
  },
  {
   "cell_type": "code",
   "execution_count": 4,
   "id": "56a26242-b9c1-443b-9713-01bbcbc11cae",
   "metadata": {},
   "outputs": [],
   "source": [
    "# Load the data with low_memory=False to avoid dtype warning\n",
    "data = pd.read_csv(\"D:\\\\CHRIST\\\\Boot camp\\\\DATA\\\\NSSO68.csv\", low_memory=False)"
   ]
  },
  {
   "cell_type": "code",
   "execution_count": 5,
   "id": "bf7b7cfb-0456-4ce2-8de0-108b8254eb72",
   "metadata": {},
   "outputs": [
    {
     "name": "stdout",
     "output_type": "stream",
     "text": [
      "   slno       grp  Round_Centre  FSU_number  Round  Schedule_Number  Sample  \\\n",
      "0     1  4.10E+31             1       41000     68               10       1   \n",
      "1     2  4.10E+31             1       41000     68               10       1   \n",
      "2     3  4.10E+31             1       41000     68               10       1   \n",
      "3     4  4.10E+31             1       41000     68               10       1   \n",
      "4     5  4.10E+31             1       41000     68               10       1   \n",
      "\n",
      "   Sector  state  State_Region  ...  pickle_v  sauce_jam_v  Othrprocessed_v  \\\n",
      "0       2     24           242  ...       0.0          0.0              0.0   \n",
      "1       2     24           242  ...       0.0          0.0              0.0   \n",
      "2       2     24           242  ...       0.0          0.0              0.0   \n",
      "3       2     24           242  ...       0.0          0.0              0.0   \n",
      "4       2     24           242  ...       0.0          0.0              0.0   \n",
      "\n",
      "   Beveragestotal_v  foodtotal_v  foodtotal_q  state_1  Region  \\\n",
      "0          0.000000  1141.492400    30.942394      GUJ       2   \n",
      "1         17.500000  1244.553500    29.286153      GUJ       2   \n",
      "2          0.000000  1050.315400    31.527046      GUJ       2   \n",
      "3         33.333333  1142.591667    27.834607      GUJ       2   \n",
      "4         75.000000   945.249500    27.600713      GUJ       2   \n",
      "\n",
      "   fruits_df_tt_v  fv_tot  \n",
      "0       12.000000  154.18  \n",
      "1      333.000000  484.95  \n",
      "2       35.000000  214.84  \n",
      "3      168.333333  302.30  \n",
      "4       15.000000  148.00  \n",
      "\n",
      "[5 rows x 384 columns]\n",
      "Index(['slno', 'grp', 'Round_Centre', 'FSU_number', 'Round', 'Schedule_Number',\n",
      "       'Sample', 'Sector', 'state', 'State_Region',\n",
      "       ...\n",
      "       'pickle_v', 'sauce_jam_v', 'Othrprocessed_v', 'Beveragestotal_v',\n",
      "       'foodtotal_v', 'foodtotal_q', 'state_1', 'Region', 'fruits_df_tt_v',\n",
      "       'fv_tot'],\n",
      "      dtype='object', length=384)\n"
     ]
    }
   ],
   "source": [
    "# View the first few rows and columns\n",
    "print(data.head())\n",
    "print(data.columns)"
   ]
  },
  {
   "cell_type": "code",
   "execution_count": 6,
   "id": "e78a0ea4-6740-4b40-91d1-1faf6af0f3e1",
   "metadata": {},
   "outputs": [],
   "source": [
    "# Create a binary indicator for non-vegetarian status\n",
    "data['non_veg'] = ((data['nonvegtotal_q'] > 0) | \n",
    "                   (data['eggsno_q'] > 0) | \n",
    "                   (data['fishprawn_q'] > 0) | \n",
    "                   (data['goatmeat_q'] > 0) | \n",
    "                   (data['beef_q'] > 0) | \n",
    "                   (data['pork_q'] > 0) | \n",
    "                   (data['chicken_q'] > 0) | \n",
    "                   (data['othrbirds_q'] > 0)).astype(int)"
   ]
  },
  {
   "cell_type": "code",
   "execution_count": 7,
   "id": "c51b6ae7-f811-4e84-a9cc-a9d246b3f237",
   "metadata": {},
   "outputs": [
    {
     "name": "stdout",
     "output_type": "stream",
     "text": [
      "   Age  MPCE_URP  Education\n",
      "0   50   3304.80        8.0\n",
      "1   40   7613.00       12.0\n",
      "2   45   3461.40        7.0\n",
      "3   75   3339.00        6.0\n",
      "4   30   2604.25        7.0\n"
     ]
    }
   ],
   "source": [
    "# Ensure the columns 'Age', 'MPCE_URP', and 'Education' are present\n",
    "print(data[['Age', 'MPCE_URP', 'Education']].head())"
   ]
  },
  {
   "cell_type": "code",
   "execution_count": 8,
   "id": "2971cb28-e15f-4a03-8e94-28373ae6acd1",
   "metadata": {},
   "outputs": [],
   "source": [
    "# Drop rows with missing values in these columns\n",
    "data.dropna(subset=['Age', 'MPCE_URP', 'Education', 'non_veg'], inplace=True)"
   ]
  },
  {
   "cell_type": "code",
   "execution_count": 9,
   "id": "fba4ec8a-f15a-4e14-b953-12402eaa0c61",
   "metadata": {},
   "outputs": [],
   "source": [
    "# Prepare the data for the model\n",
    "X = data[['Age', 'MPCE_URP', 'Education']]\n",
    "y = data['non_veg']"
   ]
  },
  {
   "cell_type": "code",
   "execution_count": 10,
   "id": "2c6b69ba-556c-404a-8dd2-ad68935ce208",
   "metadata": {},
   "outputs": [],
   "source": [
    "# Add a constant to the model (intercept)\n",
    "X = sm.add_constant(X)"
   ]
  },
  {
   "cell_type": "code",
   "execution_count": 11,
   "id": "152a5ce8-054d-47ac-b351-ed1876b2d320",
   "metadata": {},
   "outputs": [
    {
     "name": "stdout",
     "output_type": "stream",
     "text": [
      "Optimization terminated successfully.\n",
      "         Current function value: 0.629775\n",
      "         Iterations 4\n",
      "                          Probit Regression Results                           \n",
      "==============================================================================\n",
      "Dep. Variable:                non_veg   No. Observations:               101655\n",
      "Model:                         Probit   Df Residuals:                   101651\n",
      "Method:                           MLE   Df Model:                            3\n",
      "Date:                Mon, 01 Jul 2024   Pseudo R-squ.:                0.001666\n",
      "Time:                        19:59:17   Log-Likelihood:                -64020.\n",
      "converged:                       True   LL-Null:                       -64127.\n",
      "Covariance Type:            nonrobust   LLR p-value:                 4.613e-46\n",
      "==============================================================================\n",
      "                 coef    std err          z      P>|z|      [0.025      0.975]\n",
      "------------------------------------------------------------------------------\n",
      "const          0.5686      0.017     32.573      0.000       0.534       0.603\n",
      "Age           -0.0002      0.000     -0.749      0.454      -0.001       0.000\n",
      "MPCE_URP   -2.932e-06   8.99e-07     -3.259      0.001   -4.69e-06   -1.17e-06\n",
      "Education     -0.0154      0.001    -13.467      0.000      -0.018      -0.013\n",
      "==============================================================================\n"
     ]
    }
   ],
   "source": [
    "# Fit a probit regression model\n",
    "probit_model = sm.Probit(y, X).fit()\n",
    "\n",
    "# Summary of the model\n",
    "print(probit_model.summary())"
   ]
  }
 ],
 "metadata": {
  "kernelspec": {
   "display_name": "Python 3 (ipykernel)",
   "language": "python",
   "name": "python3"
  },
  "language_info": {
   "codemirror_mode": {
    "name": "ipython",
    "version": 3
   },
   "file_extension": ".py",
   "mimetype": "text/x-python",
   "name": "python",
   "nbconvert_exporter": "python",
   "pygments_lexer": "ipython3",
   "version": "3.11.5"
  }
 },
 "nbformat": 4,
 "nbformat_minor": 5
}
